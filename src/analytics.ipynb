{
 "cells": [
  {
   "cell_type": "markdown",
   "metadata": {},
   "source": [
    "# How COVID-19 impacted U.S Automotive Accidents?\n",
    "### Data Engineering Capstone Project\n",
    "#### Preparing queries for Analytics"
   ]
  },
  {
   "source": [
    "##### Reading Config File and Setting up AWS Redshift Connection string"
   ],
   "cell_type": "markdown",
   "metadata": {}
  },
  {
   "cell_type": "code",
   "execution_count": null,
   "metadata": {},
   "outputs": [],
   "source": [
    "%load_ext sql"
   ]
  },
  {
   "cell_type": "code",
   "execution_count": null,
   "metadata": {
    "tags": []
   },
   "outputs": [],
   "source": [
    "import configparser\n",
    "\n",
    "# Define config_file\n",
    "config_file = 'dwh.cfg'\n",
    "\n",
    "# Read CFG File\n",
    "config = configparser.ConfigParser()\n",
    "config.read(config_file)\n",
    "\n",
    "# Variables to create connection to Redshift Cluster\n",
    "host = config.get('CLUSTER', 'HOST')\n",
    "db_name = config.get('CLUSTER', 'DB_NAME')\n",
    "db_username = config.get('CLUSTER', 'DB_USER')\n",
    "db_password = config.get('CLUSTER', 'DB_PASSWORD')\n",
    "port = config.getint('CLUSTER', 'DB_PORT')\n",
    "\n",
    "# Connecting to Redshift Cluster\n",
    "conn_string = \"postgresql://{}:{}@{}:{}/{}\".format(db_username, db_password, host, port, db_name)\n",
    "\n",
    "%sql $conn_string"
   ]
  },
  {
   "source": [
    "## Entity Relationship Diagram\n",
    "\n",
    "![data_model](../images/data-model.png)"
   ],
   "cell_type": "markdown",
   "metadata": {
    "tags": []
   }
  },
  {
   "cell_type": "markdown",
   "metadata": {},
   "source": [
    "## Total Number of Accidents in 2019 Breakdown Month"
   ]
  },
  {
   "cell_type": "code",
   "execution_count": null,
   "metadata": {
    "tags": []
   },
   "outputs": [],
   "source": [
    "%%sql \n",
    "select b.month_number\n",
    "      ,b.month_name as month\n",
    "      ,count(1) as total_accidents\n",
    "from fact.us_accidents as a\n",
    "inner join dim.dates as b on a.date_id = b.date_id\n",
    "where b.year_number = 2019\n",
    "group by b.month_number, b.month_name\n",
    "order by 1"
   ]
  },
  {
   "source": [
    "## Total Number of Accidents in 2020 Where COVID-19 Cases Were Confirmed Breakdown Month"
   ],
   "cell_type": "markdown",
   "metadata": {}
  },
  {
   "cell_type": "code",
   "execution_count": null,
   "metadata": {
    "tags": []
   },
   "outputs": [],
   "source": [
    "%%sql \n",
    "select b.month_number\n",
    "      ,b.month_name as month\n",
    "      ,count(1) as total_accidents\n",
    "from fact.us_accidents as a\n",
    "inner join dim.dates as b on a.date_id = b.date_id\n",
    "inner join dim.accident_address as c on a.accident_address_id = c.accident_address_id\n",
    "inner join fact.us_covid_19 as d on a.date_id = d.date_id and c.state = d.state and c.county = d.county\n",
    "where b.year_number = 2020 and (d.confirmed > 0 or d.deaths > 0)\n",
    "group by b.month_number, b.month_name\n",
    "order by 1"
   ]
  },
  {
   "cell_type": "markdown",
   "metadata": {},
   "source": [
    "## Total Number of Accidents Breakdown Weather Condition"
   ]
  },
  {
   "cell_type": "code",
   "execution_count": null,
   "metadata": {
    "tags": []
   },
   "outputs": [],
   "source": [
    "%%sql \n",
    "select b.weather_condition\n",
    "      ,count(1) as total_accidents\n",
    "from fact.us_accidents as a\n",
    "inner join dim.weather_condition as b on a.weather_condition_id = b.weather_condition_id\n",
    "group by b.weather_condition\n",
    "order by 2 desc"
   ]
  },
  {
   "source": [
    "## Total Number of Accidents Breakdown Hour"
   ],
   "cell_type": "markdown",
   "metadata": {}
  },
  {
   "cell_type": "code",
   "execution_count": null,
   "metadata": {
    "tags": []
   },
   "outputs": [],
   "source": [
    "%%sql \n",
    "select extract(HOUR FROM start_time) As hour\n",
    "      ,count(1) as total_accidents\n",
    "from fact.us_accidents\n",
    "Group by extract(HOUR FROM start_time)\n",
    "Order By 1 Asc"
   ]
  }
 ],
 "metadata": {
  "kernelspec": {
   "display_name": "Python 3",
   "language": "python",
   "name": "python3"
  },
  "language_info": {
   "codemirror_mode": {
    "name": "ipython",
    "version": 3
   },
   "file_extension": ".py",
   "mimetype": "text/x-python",
   "name": "python",
   "nbconvert_exporter": "python",
   "pygments_lexer": "ipython3",
   "version": "3.7.4-final"
  }
 },
 "nbformat": 4,
 "nbformat_minor": 2
}